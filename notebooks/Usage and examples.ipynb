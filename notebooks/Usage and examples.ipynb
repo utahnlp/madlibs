{
 "cells": [
  {
   "cell_type": "markdown",
   "metadata": {
    "variables": {
     "object": "object",
     "person": "man"
    }
   },
   "source": [
    "# What is `madlibs`?\n",
    "\n",
    "`madlibs` is a library that lets us create templates containing variables, and populate the variables with fillers. For example, given a template like `The {{person}} bought an {{object}}.` and values for `{{person}}` and `{{object}}` defined to be {`man`, `woman`} and {`car`, `spaceship`} respectively, we will generate four sentences:\n",
    "\n",
    "    The woman bought a car.\n",
    "    The man bought a car.\n",
    "    The woman bought a spaceship.\n",
    "    The man bought a spaceship.\n",
    "\n",
    "\n",
    "## Using `madlibs`: Simple Example\n",
    "\n",
    "Let us look at an example of how to use the library. Let us first import `MadLibs` and create a template."
   ]
  },
  {
   "cell_type": "code",
   "execution_count": 1,
   "metadata": {},
   "outputs": [],
   "source": [
    "from madlibs.madlibs import MadLibs"
   ]
  },
  {
   "cell_type": "code",
   "execution_count": 2,
   "metadata": {},
   "outputs": [],
   "source": [
    "templates = {\n",
    "    \"s1\": \"The {{profession}} bought {{object}}.\",\n",
    "    \"s2\": \"The {{person}} bought {{object}}.\",\n",
    "    \"s3\": \"{{pronoun | title}} bought {{object}}.\",\n",
    "    \"s4\": \"{{name}} the {{profession}} bought {{object}}.\"\n",
    "}\n"
   ]
  },
  {
   "cell_type": "markdown",
   "metadata": {
    "variables": {
     "...": "Ellipsis"
    }
   },
   "source": [
    "We have created a collection of templates named `s1`, `s2`, `s3` and `s4`. Each template contains a some variables specified with curly brackets `{{...}}`. In this collection of four templates, we have the following variables:\n",
    "\n",
    "1. `profession`\n",
    "2. `object`\n",
    "3. `person`\n",
    "4. `pronoun`\n",
    "5. `name`\n",
    "\n",
    "Two observations are worth mentioning here. First, variables can be used multiple times in the same template collection, and will all get populated with the same value, as we will see. Second, we have embellished the `pronoun` variable with the operator `title`. This is a `jinja` filter; the jinja website has a [list of supported filters](https://jinja.palletsprojects.com/en/3.0.x/templates/#list-of-builtin-filters).\n",
    "\n",
    "\n",
    "Next, we need to specify what values these variables can take. Note that the variables `person`, `name` and `pronoun` are not independent here. To allow for this, we will specify variables using a dictionary, where the fillers can be either a list of strings, or a list of dictionaries that defines groups like `person`, `name` and `pronoun`."
   ]
  },
  {
   "cell_type": "code",
   "execution_count": 3,
   "metadata": {},
   "outputs": [],
   "source": [
    "fillers = {\n",
    "    \"profession\": [\"doctor\", \"nurse\", \"janitor\", \"professor\", \"architect\", \"politician\"],\n",
    "    \"object\": [\"a bagel\", \"an apple\", \"a car\", \"a bus\"],\n",
    "    \"people\": [\n",
    "        {\"name\": \"Jack\", \"person\": \"man\", \"pronoun\": \"he\"}, \n",
    "        {\"name\": \"Jill\", \"person\": \"woman\", \"pronoun\": \"she\"}, \n",
    "        {\"name\": \"John\", \"person\": \"grandfather\", \"pronoun\": \"he\"}, \n",
    "        {\"name\": \"Mary\", \"person\": \"grandmother\", \"pronoun\": \"she\"}, \n",
    "    ],\n",
    "    \"animal\": [\"cat\", \"dog\", \"fish\"]\n",
    "}"
   ]
  },
  {
   "cell_type": "markdown",
   "metadata": {},
   "source": [
    "Here, we see the the variables `profession` and `object` are keys in the dictionary. There is another key `people`, which does not show up in the templates, but it is mapped to a list whose elements contain `name`, `person` and `pronoun`. There is also a variable `animal` that is not used in any of the templates. As we will see, such unused variables get ignored. \n",
    "\n",
    "Let us now combine the templates and the fillers."
   ]
  },
  {
   "cell_type": "code",
   "execution_count": 4,
   "metadata": {},
   "outputs": [],
   "source": [
    "madlibs = MadLibs(templates=templates, fillers=fillers)"
   ]
  },
  {
   "cell_type": "markdown",
   "metadata": {},
   "source": [
    "Using `madlibs`, we can generate groups of sentences by populating the templates with fillers. Calling `madlibs.generate()` produces an iterator consisting of pairs of variable assignments and the corresponding realizations of the templates.\n",
    "\n",
    "Let us look at the first five. "
   ]
  },
  {
   "cell_type": "code",
   "execution_count": 5,
   "metadata": {},
   "outputs": [
    {
     "name": "stdout",
     "output_type": "stream",
     "text": [
      "{'name': 'Jack', 'pronoun': 'he', 'profession': 'doctor', 'object': 'a bagel', 'person': 'man'}\n",
      "\t The doctor bought a bagel.\n",
      "\t The man bought a bagel.\n",
      "\t He bought a bagel.\n",
      "\t Jack the doctor bought a bagel.\n",
      "{'name': 'Jill', 'pronoun': 'she', 'profession': 'doctor', 'object': 'a bagel', 'person': 'woman'}\n",
      "\t The doctor bought a bagel.\n",
      "\t The woman bought a bagel.\n",
      "\t She bought a bagel.\n",
      "\t Jill the doctor bought a bagel.\n",
      "{'name': 'John', 'pronoun': 'he', 'profession': 'doctor', 'object': 'a bagel', 'person': 'grandfather'}\n",
      "\t The doctor bought a bagel.\n",
      "\t The grandfather bought a bagel.\n",
      "\t He bought a bagel.\n",
      "\t John the doctor bought a bagel.\n",
      "{'name': 'Mary', 'pronoun': 'she', 'profession': 'doctor', 'object': 'a bagel', 'person': 'grandmother'}\n",
      "\t The doctor bought a bagel.\n",
      "\t The grandmother bought a bagel.\n",
      "\t She bought a bagel.\n",
      "\t Mary the doctor bought a bagel.\n",
      "{'name': 'Jack', 'pronoun': 'he', 'profession': 'doctor', 'object': 'an apple', 'person': 'man'}\n",
      "\t The doctor bought an apple.\n",
      "\t The man bought an apple.\n",
      "\t He bought an apple.\n",
      "\t Jack the doctor bought an apple.\n"
     ]
    }
   ],
   "source": [
    "num_generated = 0\n",
    "\n",
    "for assignments, sentences in madlibs.generate():\n",
    "\n",
    "    s1 = sentences[\"s1\"]\n",
    "    s2 = sentences[\"s2\"]\n",
    "    s3 = sentences[\"s3\"]\n",
    "    s4 = sentences[\"s4\"]\n",
    "    \n",
    "    print(assignments)\n",
    "    print(\"\\t\", s1)\n",
    "    print(\"\\t\", s2)\n",
    "    print(\"\\t\", s3)\n",
    "    print(\"\\t\", s4)\n",
    "    \n",
    "    num_generated += 1\n",
    "    if num_generated >= 5:\n",
    "        break \n",
    "    \n"
   ]
  },
  {
   "cell_type": "markdown",
   "metadata": {},
   "source": [
    "Each `assignment` here is a dictionary, mapping variables to their instantiations. The keys in the dictionary `sentences` are based on the keys in the original `templates`. Note that the variable `fish` in the fillers is ignored."
   ]
  },
  {
   "cell_type": "markdown",
   "metadata": {},
   "source": [
    "## Numeric variables\n",
    "\n",
    "Sometimes, we may want to define some variables to be numbers. We could, of course, specify a filler whose values are all numbers, but `madlibs` includes syntax to make this easier. Let us see an example. As before, let us define some templates first."
   ]
  },
  {
   "cell_type": "code",
   "execution_count": 21,
   "metadata": {},
   "outputs": [],
   "source": [
    "templates = {\n",
    "    \"0\": \"{{name}} bought {{number | range(2, 5)}} fruits.\",\n",
    "}"
   ]
  },
  {
   "cell_type": "markdown",
   "metadata": {},
   "source": [
    "We have two variables here: `name` and `number`. But we have defined `number` as a range using the familiar python syntax for numeric ranges: `range(start, end, step)`. If `step` is not specified, as above, it is assumed to be `1`. We still need to specify the domain of `name`."
   ]
  },
  {
   "cell_type": "code",
   "execution_count": 22,
   "metadata": {},
   "outputs": [],
   "source": [
    "fillers = {\n",
    "    \"name\": [\"Jack\", \"Jill\"]\n",
    "}"
   ]
  },
  {
   "cell_type": "markdown",
   "metadata": {},
   "source": [
    "Now, we can populate the template using the fillers."
   ]
  },
  {
   "cell_type": "code",
   "execution_count": 23,
   "metadata": {},
   "outputs": [
    {
     "name": "stdout",
     "output_type": "stream",
     "text": [
      "{'name': 'Jack', 'number': '2'}\n",
      "{'0': 'Jack bought 2 fruits.'}\n",
      "{'name': 'Jack', 'number': '3'}\n",
      "{'0': 'Jack bought 3 fruits.'}\n",
      "{'name': 'Jack', 'number': '4'}\n",
      "{'0': 'Jack bought 4 fruits.'}\n",
      "{'name': 'Jill', 'number': '2'}\n",
      "{'0': 'Jill bought 2 fruits.'}\n",
      "{'name': 'Jill', 'number': '3'}\n",
      "{'0': 'Jill bought 3 fruits.'}\n",
      "{'name': 'Jill', 'number': '4'}\n",
      "{'0': 'Jill bought 4 fruits.'}\n"
     ]
    }
   ],
   "source": [
    "madlibs = MadLibs(templates=templates, fillers=fillers)\n",
    "\n",
    "\n",
    "for assignment, sentences in madlibs.generate():\n",
    "    print(assignment)\n",
    "    print(sentences)"
   ]
  },
  {
   "cell_type": "markdown",
   "metadata": {},
   "source": [
    "We get the full cross product of names and numbers."
   ]
  },
  {
   "cell_type": "markdown",
   "metadata": {},
   "source": [
    "## Defining aliases for variables\n",
    "\n",
    "We can define variables as belonging to certain types and share the variables. Let us see why we need to do this. Consider a MadLib with one template, defined below:"
   ]
  },
  {
   "cell_type": "code",
   "execution_count": 6,
   "metadata": {},
   "outputs": [],
   "source": [
    "templates = {\n",
    "    \"0\": \"{{name}} bought a car.\",\n",
    "    \"1\": \"{{name}} was not happy with the car.\"\n",
    "}"
   ]
  },
  {
   "cell_type": "markdown",
   "metadata": {},
   "source": [
    "There is only one variable here. Let us create a few fillers for `name`."
   ]
  },
  {
   "cell_type": "code",
   "execution_count": 7,
   "metadata": {},
   "outputs": [],
   "source": [
    "fillers = {\n",
    "    \"name\": [\"Alice\", \"Bob\", \"Charlie\"]\n",
    "}"
   ]
  },
  {
   "cell_type": "markdown",
   "metadata": {},
   "source": [
    "We can create a madlib with the template and the fillers."
   ]
  },
  {
   "cell_type": "code",
   "execution_count": 8,
   "metadata": {},
   "outputs": [
    {
     "name": "stdout",
     "output_type": "stream",
     "text": [
      "{'name': 'Alice'}\n",
      "{'0': 'Alice bought a car.', '1': 'Alice was not happy with the car.'}\n"
     ]
    }
   ],
   "source": [
    "madlibs = MadLibs(templates=templates, fillers=fillers)\n",
    "\n",
    "assignment, sentences = next(madlibs.generate())\n",
    "print(assignment)\n",
    "print(sentences)"
   ]
  },
  {
   "cell_type": "markdown",
   "metadata": {},
   "source": [
    "We see that both instances of the `name` variable refer to the same filler. This seems reasonable. However, what if we want a template to be populated with two different names. For example,"
   ]
  },
  {
   "cell_type": "code",
   "execution_count": 9,
   "metadata": {},
   "outputs": [
    {
     "name": "stdout",
     "output_type": "stream",
     "text": [
      "{'name': 'John', 'possessive_pronoun': 'his'}\n",
      "{'0': 'John bought a car for his friend John.'}\n",
      "{'name': 'Mary', 'possessive_pronoun': 'her'}\n",
      "{'0': 'Mary bought a car for her friend Mary.'}\n"
     ]
    }
   ],
   "source": [
    "templates = {\n",
    "    \"0\": \"{{name}} bought a car for {{possessive_pronoun}} friend {{name}}.\"\n",
    "}\n",
    "\n",
    "fillers = {\n",
    "    \"people\": [\n",
    "        {\"name\": \"John\", \"possessive_pronoun\": \"his\"},\n",
    "        {\"name\": \"Mary\", \"possessive_pronoun\": \"her\"},        \n",
    "    ]\n",
    "}\n",
    "\n",
    "madlibs = MadLibs(templates=templates, fillers=fillers)\n",
    "\n",
    "for assignment, sentences in madlibs.generate():\n",
    "    print(assignment)\n",
    "    print(sentences)"
   ]
  },
  {
   "cell_type": "markdown",
   "metadata": {},
   "source": [
    "Maybe this is not what we wanted. Let us try again, by defining variable names and restricting their types."
   ]
  },
  {
   "cell_type": "code",
   "execution_count": 10,
   "metadata": {},
   "outputs": [
    {
     "name": "stdout",
     "output_type": "stream",
     "text": [
      "{'possessive_pronoun': 'his', 'name1': 'John', 'name2': 'John'}\n",
      "{'0': 'John bought a car for his friend John.'}\n",
      "{'possessive_pronoun': 'his', 'name1': 'John', 'name2': 'Mary'}\n",
      "{'0': 'John bought a car for his friend Mary.'}\n",
      "{'possessive_pronoun': 'her', 'name1': 'Mary', 'name2': 'John'}\n",
      "{'0': 'Mary bought a car for her friend John.'}\n",
      "{'possessive_pronoun': 'her', 'name1': 'Mary', 'name2': 'Mary'}\n",
      "{'0': 'Mary bought a car for her friend Mary.'}\n"
     ]
    }
   ],
   "source": [
    "templates = {\n",
    "    \"0\": '{{name1 | type(\"name\")}} bought a car for {{possessive_pronoun}} friend {{name2 | type(\"name\")}}.'\n",
    "}\n",
    "\n",
    "fillers = {\n",
    "    \"people\": [\n",
    "        {\"name\": \"John\", \"possessive_pronoun\": \"his\"},\n",
    "        {\"name\": \"Mary\", \"possessive_pronoun\": \"her\"},        \n",
    "    ]\n",
    "}\n",
    "\n",
    "madlibs = MadLibs(templates=templates, fillers=fillers)\n",
    "\n",
    "items = madlibs.generate()\n",
    "\n",
    "for assignment, sentences in madlibs.generate():\n",
    "    print(assignment)\n",
    "    print(sentences)"
   ]
  },
  {
   "cell_type": "markdown",
   "metadata": {},
   "source": [
    "Here, we have specified type constraints using the syntax `type(\"name\")`, where `name` is a known filler. Essentially we have defined `name1` and `name2` to be variables whose domain is specified by the filler `name`.  \n",
    "\n",
    "This may be better, but we are still not quite there. We need a constraint that says that `name1` and `name2` should be different from each other."
   ]
  },
  {
   "cell_type": "code",
   "execution_count": 11,
   "metadata": {},
   "outputs": [
    {
     "name": "stdout",
     "output_type": "stream",
     "text": [
      "{'possessive_pronoun': 'his', 'name1': 'John', 'name2': 'Mary'}\n",
      "{'0': 'John bought a car for his friend Mary.'}\n",
      "{'possessive_pronoun': 'her', 'name1': 'Mary', 'name2': 'John'}\n",
      "{'0': 'Mary bought a car for her friend John.'}\n"
     ]
    }
   ],
   "source": [
    "templates = {\n",
    "    \"0\": '{{name1 | type(\"name\")}} bought a car for {{possessive_pronoun}} friend {{name2 | type(\"name\") | not_equals(\"name1\")}}.'\n",
    "}\n",
    "\n",
    "fillers = {\n",
    "    \"people\": [\n",
    "        {\"name\": \"John\", \"possessive_pronoun\": \"his\"},\n",
    "        {\"name\": \"Mary\", \"possessive_pronoun\": \"her\"},        \n",
    "    ]\n",
    "}\n",
    "\n",
    "madlibs = MadLibs(templates=templates, fillers=fillers)\n",
    "\n",
    "items = madlibs.generate()\n",
    "\n",
    "for assignment, sentences in madlibs.generate():\n",
    "    print(assignment)\n",
    "    print(sentences)"
   ]
  },
  {
   "cell_type": "markdown",
   "metadata": {},
   "source": [
    "We have added an extra constraint for `name2` saying that it should not be equal to `name1`. This gives us what we need. There are four such constraints currently defined: `equals`, `not_equals`, `less_than` and `greater_than`. The vocabulary of these constraints will grow."
   ]
  },
  {
   "cell_type": "markdown",
   "metadata": {},
   "source": [
    "Let us look at another example, where the constraints are applied to numeric variables."
   ]
  },
  {
   "cell_type": "code",
   "execution_count": 30,
   "metadata": {},
   "outputs": [
    {
     "name": "stdout",
     "output_type": "stream",
     "text": [
      "{'possessive_pronoun': 'his', 'name1': 'John', 'number2': '3', 'name2': 'Mary', 'number1': '2'}\n",
      "\ts0: John bought 2 cars for his friend.\n",
      "\ts1: Mary now has 3 cars.\n",
      "{'possessive_pronoun': 'his', 'name1': 'John', 'number2': '4', 'name2': 'Mary', 'number1': '2'}\n",
      "\ts0: John bought 2 cars for his friend.\n",
      "\ts1: Mary now has 4 cars.\n",
      "{'possessive_pronoun': 'his', 'name1': 'John', 'number2': '4', 'name2': 'Mary', 'number1': '3'}\n",
      "\ts0: John bought 3 cars for his friend.\n",
      "\ts1: Mary now has 4 cars.\n",
      "{'possessive_pronoun': 'her', 'name1': 'Mary', 'number2': '3', 'name2': 'John', 'number1': '2'}\n",
      "\ts0: Mary bought 2 cars for her friend.\n",
      "\ts1: John now has 3 cars.\n",
      "{'possessive_pronoun': 'her', 'name1': 'Mary', 'number2': '4', 'name2': 'John', 'number1': '2'}\n",
      "\ts0: Mary bought 2 cars for her friend.\n",
      "\ts1: John now has 4 cars.\n",
      "{'possessive_pronoun': 'her', 'name1': 'Mary', 'number2': '4', 'name2': 'John', 'number1': '3'}\n",
      "\ts0: Mary bought 3 cars for her friend.\n",
      "\ts1: John now has 4 cars.\n"
     ]
    }
   ],
   "source": [
    "templates = {\n",
    "    \"s0\": '{{name1 | type(\"name\")}} bought {{number1 | range(2, 5)}} cars for {{possessive_pronoun}} friend.',\n",
    "    \"s1\": '{{name2 | type(\"name\") | not_equals(\"name1\")}} now has {{number2 | range(2,5) | greater_than(\"number1\")}} cars.'\n",
    "}\n",
    "\n",
    "fillers = {\n",
    "    \"people\": [\n",
    "        {\"name\": \"John\", \"possessive_pronoun\": \"his\"},\n",
    "        {\"name\": \"Mary\", \"possessive_pronoun\": \"her\"},        \n",
    "    ]\n",
    "}\n",
    "\n",
    "madlibs = MadLibs(templates=templates, fillers=fillers)\n",
    "\n",
    "items = madlibs.generate()\n",
    "\n",
    "for assignment, sentences in madlibs.generate():\n",
    "    print(assignment)\n",
    "    for sentence_key in sentences:\n",
    "        print(f\"\\t{sentence_key}: {sentences[sentence_key]}\")\n"
   ]
  }
 ],
 "metadata": {
  "kernelspec": {
   "display_name": "Python 3.8.6 64-bit ('.venv': venv)",
   "language": "python",
   "name": "python38664bitvenvvenv9a8a191af1ff429eb73b03d305197890"
  },
  "language_info": {
   "codemirror_mode": {
    "name": "ipython",
    "version": 3
   },
   "file_extension": ".py",
   "mimetype": "text/x-python",
   "name": "python",
   "nbconvert_exporter": "python",
   "pygments_lexer": "ipython3",
   "version": "3.8.6"
  },
  "toc": {
   "base_numbering": 1,
   "nav_menu": {},
   "number_sections": true,
   "sideBar": true,
   "skip_h1_title": false,
   "title_cell": "Table of Contents",
   "title_sidebar": "Contents",
   "toc_cell": false,
   "toc_position": {},
   "toc_section_display": true,
   "toc_window_display": false
  }
 },
 "nbformat": 4,
 "nbformat_minor": 5
}
